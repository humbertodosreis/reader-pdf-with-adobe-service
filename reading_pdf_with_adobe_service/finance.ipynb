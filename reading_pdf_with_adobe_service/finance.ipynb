{
 "cells": [
  {
   "cell_type": "code",
   "execution_count": null,
   "metadata": {},
   "outputs": [],
   "source": [
    "import pandas as pd\n",
    "import glob\n",
    "import re\n",
    "\n",
    "# Function to extract the numerical part of the filename\n",
    "def extract_number(filename):\n",
    "    match = re.search(r'(\\d+)\\.csv', filename)\n",
    "    return int(match.group(1)) if match else 0\n",
    "\n",
    "# Use glob to find all CSV files in the directory\n",
    "csv_files = glob.glob('../output/itau_extrato_032024/tables/*.csv')\n",
    "\n",
    "csv_files = sorted(csv_files, key=extract_number)\n",
    "\n",
    "csv_files"
   ]
  },
  {
   "cell_type": "code",
   "execution_count": 25,
   "metadata": {},
   "outputs": [],
   "source": [
    "def extract_category(current):\n",
    "    entry_to_category = {\n",
    "        'ESPOSA': ['FERNAND', 'IZA', 'ILZA'],\n",
    "        'TRANSPORTE': ['BILHETE UNICO'],\n",
    "        'COMBUSTIVEL': ['AUTO POSTO'],\n",
    "        'ESTACIONAMENTO': ['PARK', 'ESTAPAR'],\n",
    "        'SERVICOS': ['NETFLIX', 'CLARO', 'VIVO FIXO'],\n",
    "        'ALIMENTACAO': ['ATACADAO', 'iFood', 'lanche', 'MC DONALDS', 'MERCADO', 'PAES E DOCE', 'ASSAI'],\n",
    "        'IMPOSTOS': ['GPS'],\n",
    "        'EMPRESTIMO': ['FIN VEIC'],\n",
    "        'IGREJA': ['IGREJA'],\n",
    "        'CORTE DE CABELO': ['REUNIV'],\n",
    "        'MEDICAMENTOS': ['DROGASIL'],\n",
    "    }\n",
    "\n",
    "    for category, entries in entry_to_category.items():\n",
    "        for entry in entries:\n",
    "            if re.search(entry, current, re.IGNORECASE):\n",
    "                return category\n",
    "    \n",
    "    return 'NA'"
   ]
  },
  {
   "cell_type": "code",
   "execution_count": null,
   "metadata": {},
   "outputs": [],
   "source": [
    "# Create an empty list to hold the DataFrames\n",
    "dfs = []\n",
    "\n",
    "# Loop through the list of CSV files and read each one into a DataFrame\n",
    "for file in csv_files:\n",
    "    df = pd.read_csv(\n",
    "        file, \n",
    "        delimiter=',', \n",
    "        header=None,\n",
    "        names=['data', 'lancamentos', 'valor', 'saldo'],\n",
    "        parse_dates=['data'],\n",
    "        dayfirst=True\n",
    "    )\n",
    "    dfs.append(df)\n",
    "\n",
    "# # Concatenate all DataFrames into one\n",
    "combined_df = pd.concat(dfs, ignore_index=True)\n",
    "\n",
    "# # Display the combined DataFrame\n",
    "combined_df"
   ]
  },
  {
   "cell_type": "code",
   "execution_count": null,
   "metadata": {},
   "outputs": [],
   "source": [
    "combined_df['category'] = combined_df['lancamentos'].apply(extract_category)\n",
    "combined_df"
   ]
  }
 ],
 "metadata": {
  "kernelspec": {
   "display_name": ".venv",
   "language": "python",
   "name": "python3"
  },
  "language_info": {
   "codemirror_mode": {
    "name": "ipython",
    "version": 3
   },
   "file_extension": ".py",
   "mimetype": "text/x-python",
   "name": "python",
   "nbconvert_exporter": "python",
   "pygments_lexer": "ipython3",
   "version": "3.12.2"
  }
 },
 "nbformat": 4,
 "nbformat_minor": 2
}
